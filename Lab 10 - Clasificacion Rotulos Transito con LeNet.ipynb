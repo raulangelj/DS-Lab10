{
 "cells": [
  {
   "cell_type": "markdown",
   "metadata": {},
   "source": [
    "# Clasificación de rótulos de tránsito (EEUU) utilizando la arquitectura de CNN Le_Net  "
   ]
  },
  {
   "cell_type": "markdown",
   "metadata": {},
   "source": [
    "Raul Jimenez, \n",
    "Bryann Alfaro, \n",
    "Donaldo Garcia\n",
    "\n",
    "Link al repositorio:https://github.com/raulangelj/DS-Lab10"
   ]
  },
  {
   "cell_type": "markdown",
   "metadata": {},
   "source": [
    "# Enunciado del problema"
   ]
  },
  {
   "cell_type": "markdown",
   "metadata": {},
   "source": [
    "A lo largo del tiempo, se han desarrollado muchas arquitecturas de redes neuronales, algunas de ellas se han vuelto clásicas.  Una de ellas es una CNN (red neuronal convolucional) desarrollada por Yann LeCun a la que le denominó Le-Net.  Pueden ver el artículo original en:\n",
    "\n",
    "http://yann.lecun.com/exdb/publis/pdf/lecun-01a.pdf\n",
    "\n",
    "El diseño es el siguiente:\n",
    "\n",
    "![Arquitectura Le-Net](./images/Le-Net.png)\n",
    "\n",
    "* C: Capa de Convolución, \n",
    "* S: Capa de Submuestreo (Pooling), \n",
    "* F: Capa completamente conectada (Fully Connected)"
   ]
  },
  {
   "cell_type": "markdown",
   "metadata": {},
   "source": [
    "En este caso de estudio, se proveen imágenes de rótulos de tráfico y el objetivo es entrenar una red Le-Net para que las pueda clasificar\n",
    "\n",
    "- El conjunto de datos contiene 43 clases diferentes de imágenes. \n",
    "- Las clases se listan abajo: \n",
    "\n",
    "    0 - Limite velocidad (20km/h)  \n",
    "    1 - Limite velocidad (30km/h)  \n",
    "    2 - Limite velocidad (50km/h)  \n",
    "    3 - Limite velocidad (60km/h)  \n",
    "    4 - Limite velocidad (70km/h)  \n",
    "    5 - Limite velocidad (80km/h)  \n",
    "    6 - Fin de limite velocidad (80km/h)'  \n",
    "    7 - Limite velocidad (100km/h)  \n",
    "    8 - Limite velocidad (120km/h)  \n",
    "    9 - No rebasar  \n",
    "    10 - No rebasar para vehiculos mayores de 3.5 tonladas metricas  \n",
    "    11 - Derecho-de-via en la siguiente interseccion  \n",
    "    12 - Camino prioritario  \n",
    "    13 - Ceda el paso  \n",
    "    14 - Alto  \n",
    "    15 - No vehiculos  \n",
    "    16 - Prohibido vehiculos mayores de 3.5 toneladas metricas  \n",
    "    17 - No hay entrada\n",
    "    18 - Precaucion general  \n",
    "    19 - Curva peligrosa a la izquierda  \n",
    "    20 - Curva peligrosa a la derecha  \n",
    "    21 - Doble curva  \n",
    "    22 - Camino disparejo  \n",
    "    23 - Camino resbaloso  \n",
    "    24 - Camino se reduce a la derecha  \n",
    "    25 - Trabajos adelante  \n",
    "    26 - Señales de Trafico -semaforos-  \n",
    "    27 - Cruce de peatones  \n",
    "    28 - Cruce de Niños  \n",
    "    29 - Cruce de bicicletas  \n",
    "    30 - Cuidado hielo/nieve  \n",
    "    31 - Cruce de animales silvestres  \n",
    "    32 - Fin de todos los limites de velocidad y rebase  \n",
    "    33 - Gire a la derecha adelante  \n",
    "    34 - Gire a la izquierda adelante  \n",
    "    35 - Recto solo  \n",
    "    36 - Vaya recto o a la rerecha  \n",
    "    37 - Vaya recto o a la izquierda  \n",
    "    38 - Mantengase a la derecha  \n",
    "    39 - Mantengase a la izquierda  \n",
    "    40 - Vuelta en U obligada  \n",
    "    41 - Fin de no rebasar  \n",
    "    42 - Fin de no rebasar para vehiculos mayores de 3.5 toneladas metricas\n",
    "\n",
    "\n"
   ]
  },
  {
   "cell_type": "markdown",
   "metadata": {},
   "source": [
    "Referencias (Señales de Tráfico)\n",
    "\n",
    "J. Stallkamp, M. Schlipsing, J. Salmen, and C. Igel. The German Traffic Sign Recognition Benchmark: A multi-class classification competition. In Proceedings of the IEEE International Joint Conference on Neural Networks, pages 1453–1460. 2011. \n",
    "\n",
    "@inproceedings{Stallkamp-IJCNN-2011,\n",
    "    author = {Johannes Stallkamp and Marc Schlipsing and Jan Salmen and Christian Igel},\n",
    "    booktitle = {IEEE International Joint Conference on Neural Networks},\n",
    "    title = {The {G}erman {T}raffic {S}ign {R}ecognition {B}enchmark: A multi-class classification competition},\n",
    "    year = {2011},\n",
    "    pages = {1453--1460}\n",
    "}\n",
    "\n"
   ]
  },
  {
   "cell_type": "markdown",
   "metadata": {},
   "source": [
    "# IMPORTAR LIBRERIAS"
   ]
  },
  {
   "cell_type": "code",
   "execution_count": 1,
   "metadata": {},
   "outputs": [],
   "source": [
    "import warnings\n",
    "warnings.filterwarnings(\"ignore\")"
   ]
  },
  {
   "cell_type": "code",
   "execution_count": 2,
   "metadata": {},
   "outputs": [],
   "source": [
    "import pickle\n",
    "import seaborn as sns\n",
    "import pandas as pd\n",
    "import numpy as np\n",
    "import matplotlib.pyplot as plt\n",
    "import random"
   ]
  },
  {
   "cell_type": "markdown",
   "metadata": {},
   "source": [
    "# Obtener Datos\n",
    "\n",
    "El módulo de Pickle implementa protocolos binarios para la serialización y de-serialización de objetos Python"
   ]
  },
  {
   "cell_type": "code",
   "execution_count": 3,
   "metadata": {},
   "outputs": [],
   "source": [
    "with open(\"entrenamiento.p\", mode='rb') as datos_entreno:\n",
    "    entreno = pickle.load(datos_entreno)\n",
    "with open(\"validacion.p\", mode='rb') as datos_validacion:\n",
    "    valida = pickle.load(datos_validacion)\n",
    "with open(\"prueba.p\", mode='rb') as datos_prueba:\n",
    "    prueba = pickle.load(datos_prueba)"
   ]
  },
  {
   "cell_type": "code",
   "execution_count": 4,
   "metadata": {},
   "outputs": [],
   "source": [
    "X_entreno, y_entreno = entreno['features'], entreno['labels']\n",
    "X_valida, y_valida = valida['features'], valida['labels']\n",
    "X_prueba, y_prueba = prueba['features'], prueba['labels']\n"
   ]
  },
  {
   "cell_type": "code",
   "execution_count": 5,
   "metadata": {},
   "outputs": [
    {
     "data": {
      "text/plain": [
       "(34799, 32, 32, 3)"
      ]
     },
     "execution_count": 5,
     "metadata": {},
     "output_type": "execute_result"
    }
   ],
   "source": [
    "X_entreno.shape"
   ]
  },
  {
   "cell_type": "code",
   "execution_count": 6,
   "metadata": {},
   "outputs": [
    {
     "data": {
      "text/plain": [
       "(34799,)"
      ]
     },
     "execution_count": 6,
     "metadata": {},
     "output_type": "execute_result"
    }
   ],
   "source": [
    "y_entreno.shape"
   ]
  },
  {
   "cell_type": "markdown",
   "metadata": {},
   "source": [
    "# EXPLORACION DE LAS IMAGENES\n",
    "\n",
    "Mostrar que las imágenes no están \"barajeadas\""
   ]
  },
  {
   "cell_type": "code",
   "execution_count": 7,
   "metadata": {},
   "outputs": [
    {
     "name": "stdout",
     "output_type": "stream",
     "text": [
      "(32, 32, 3)\n"
     ]
    },
    {
     "data": {
      "image/png": "[encoded data removed]",
      "text/plain": [
       "<Figure size 432x288 with 1 Axes>"
      ]
     },
     "metadata": {
      "needs_background": "light"
     },
     "output_type": "display_data"
    }
   ],
   "source": [
    "%matplotlib inline\n",
    "image = X_entreno[0]\n",
    "plt.imshow(image)\n",
    "print(image.shape)"
   ]
  },
  {
   "cell_type": "markdown",
   "metadata": {},
   "source": [
    "# PREPARACION DE LOS DATOS"
   ]
  },
  {
   "cell_type": "code",
   "execution_count": 8,
   "metadata": {},
   "outputs": [],
   "source": [
    "# \"Barajear\" los datos\n",
    "from sklearn.utils import shuffle\n",
    "X_entreno, y_entreno = shuffle(X_entreno, y_entreno)\n",
    "X_valida, y_valida = shuffle(X_valida, y_valida)\n",
    "X_prueba, y_prueba = shuffle(X_prueba, y_prueba)"
   ]
  },
  {
   "cell_type": "code",
   "execution_count": 9,
   "metadata": {},
   "outputs": [
    {
     "name": "stdout",
     "output_type": "stream",
     "text": [
      "(32, 32, 3)\n"
     ]
    },
    {
     "data": {
      "image/png": "[encoded data removed]",
      "text/plain": [
       "<Figure size 432x288 with 1 Axes>"
      ]
     },
     "metadata": {
      "needs_background": "light"
     },
     "output_type": "display_data"
    }
   ],
   "source": [
    "image = X_entreno[0]\n",
    "plt.imshow(image)\n",
    "print(image.shape)"
   ]
  },
  {
   "cell_type": "code",
   "execution_count": 10,
   "metadata": {},
   "outputs": [],
   "source": [
    "from PIL import Image \n",
    "import numpy as np "
   ]
  },
  {
   "cell_type": "markdown",
   "metadata": {},
   "source": [
    "Convertir a grises"
   ]
  },
  {
   "cell_type": "code",
   "execution_count": 11,
   "metadata": {},
   "outputs": [
    {
     "name": "stdout",
     "output_type": "stream",
     "text": [
      "(32, 32, 3)\n"
     ]
    },
    {
     "data": {
      "image/png": "[encoded data removed]",
      "text/plain": [
       "<Figure size 432x288 with 1 Axes>"
      ]
     },
     "metadata": {
      "needs_background": "light"
     },
     "output_type": "display_data"
    }
   ],
   "source": [
    "image = X_entreno[6]\n",
    "plt.imshow(image)\n",
    "print(image.shape)"
   ]
  },
  {
   "cell_type": "code",
   "execution_count": 12,
   "metadata": {},
   "outputs": [],
   "source": [
    "def convert_grayscale(matriz):\n",
    "    converting_image = np.array(matriz)\n",
    "    converting_image = np.sum(converting_image, axis = 2) // 3\n",
    "    converting_image = converting_image.astype(np.uint8) \n",
    "    return converting_image"
   ]
  },
  {
   "cell_type": "code",
   "execution_count": 13,
   "metadata": {},
   "outputs": [],
   "source": [
    "# Convertir a escala de grises cada imagen en X_entreno, X_valida y X_prueba in new numpy.ndarray\n",
    "X_entreno_gris = np.array([convert_grayscale(image) for image in X_entreno])\n",
    "X_valida_gris = np.array([convert_grayscale(image) for image in X_valida])\n",
    "X_prueba_gris = np.array([convert_grayscale(image) for image in X_prueba])\n"
   ]
  },
  {
   "cell_type": "code",
   "execution_count": 14,
   "metadata": {},
   "outputs": [
    {
     "data": {
      "text/plain": [
       "<matplotlib.image.AxesImage at 0x216a1a04a00>"
      ]
     },
     "execution_count": 14,
     "metadata": {},
     "output_type": "execute_result"
    },
    {
     "data": {
      "image/png": "[encoded data removed]",
      "text/plain": [
       "<Figure size 432x288 with 1 Axes>"
      ]
     },
     "metadata": {
      "needs_background": "light"
     },
     "output_type": "display_data"
    }
   ],
   "source": [
    "gris= X_entreno_gris[12]\n",
    "plt.imshow(gris, cmap='gray')"
   ]
  },
  {
   "cell_type": "markdown",
   "metadata": {},
   "source": [
    "Verificar que quedaron igual"
   ]
  },
  {
   "cell_type": "code",
   "execution_count": 15,
   "metadata": {},
   "outputs": [
    {
     "name": "stdout",
     "output_type": "stream",
     "text": [
      "X_entreno_gris shape: (34799, 32, 32)\n",
      "X_valida_gris shape: (4410, 32, 32)\n",
      "X_prueba_gris shape: (12630, 32, 32)\n",
      "X_entreno shape: (34799, 32, 32, 3)\n",
      "X_valida shape: (4410, 32, 32, 3)\n",
      "X_prueba shape: (12630, 32, 32, 3)\n"
     ]
    }
   ],
   "source": [
    "#Get amount of values in each array\n",
    "print(\"X_entreno_gris shape: {}\".format(X_entreno_gris.shape))\n",
    "print(\"X_valida_gris shape: {}\".format(X_valida_gris.shape))\n",
    "print(\"X_prueba_gris shape: {}\".format(X_prueba_gris.shape))\n",
    "#Train model x shape\n",
    "print(\"X_entreno shape: {}\".format(X_entreno.shape))\n",
    "print(\"X_valida shape: {}\".format(X_valida.shape))\n",
    "print(\"X_prueba shape: {}\".format(X_prueba.shape))"
   ]
  },
  {
   "cell_type": "code",
   "execution_count": 16,
   "metadata": {},
   "outputs": [
    {
     "name": "stdout",
     "output_type": "stream",
     "text": [
      "X_entreno_gris shape: (34799, 32, 32)\n",
      "y_entreno shape: (34799,)\n",
      "X_valida_gris shape: (4410, 32, 32)\n",
      "y_valida shape: (4410,)\n",
      "X_prueba_gris shape: (12630, 32, 32)\n",
      "y_prueba shape: (12630,)\n"
     ]
    }
   ],
   "source": [
    "#shape of y and x gray\n",
    "print(\"X_entreno_gris shape: {}\".format(X_entreno_gris.shape))\n",
    "print(\"y_entreno shape: {}\".format(y_entreno.shape))\n",
    "print(\"X_valida_gris shape: {}\".format(X_valida_gris.shape))\n",
    "print(\"y_valida shape: {}\".format(y_valida.shape))\n",
    "print(\"X_prueba_gris shape: {}\".format(X_prueba_gris.shape))\n",
    "print(\"y_prueba shape: {}\".format(y_prueba.shape))"
   ]
  },
  {
   "cell_type": "code",
   "execution_count": 106,
   "metadata": {},
   "outputs": [],
   "source": [
    "# Normalizar los datos\n",
    "X_entreno_gris = X_entreno_gris / 255\n",
    "X_valida_gris = X_valida_gris / 255\n",
    "X_prueba_gris = X_prueba_gris / 255"
   ]
  },
  {
   "cell_type": "code",
   "execution_count": 110,
   "metadata": {},
   "outputs": [
    {
     "name": "stdout",
     "output_type": "stream",
     "text": [
      "1.0\n"
     ]
    },
    {
     "data": {
      "text/plain": [
       "<matplotlib.image.AxesImage at 0x16726261a30>"
      ]
     },
     "execution_count": 110,
     "metadata": {},
     "output_type": "execute_result"
    },
    {
     "data": {
      "image/png": "[encoded data removed]",
      "text/plain": [
       "<Figure size 432x288 with 1 Axes>"
      ]
     },
     "metadata": {
      "needs_background": "light"
     },
     "output_type": "display_data"
    }
   ],
   "source": [
    "image_g = X_entreno_gris[0]\n",
    "print(image_g.max())\n",
    "plt.imshow(image_g, cmap='gray')"
   ]
  },
  {
   "cell_type": "markdown",
   "metadata": {},
   "source": [
    "# Entrenamiento del modelo"
   ]
  },
  {
   "cell_type": "markdown",
   "metadata": {},
   "source": [
    "El modelo consiste de las siguientes capas: \n",
    "\n",
    "- Paso 1: La primera capa convolucional #1\n",
    "\n",
    "    - Entrada = 32x32x1\n",
    "    - Salida = 28x28x6\n",
    "    - Salida = (Entrada-filtro+1)/Paso* => (32-5+1)/1=28\n",
    "    - Se utiliza un filtro de 5x5 con una profundidad de entrada 3 y profundidad de salida 6\n",
    "    - Aplicar una función de activación RELU a la salida\n",
    "    - Submuestreo (pooling) para la entrada, Entrada = 28x28x6 y Salida = 14x14x6\n",
    "\n",
    "\n",
    "    * Paso (Stride) es la cantidad por la cual el kernel se desplaza cuando el kernel se pasa sobre la imagen.\n",
    "\n",
    "- Paso 2: La segunda capa covolucional #2\n",
    "\n",
    "    - Entrada = 14x14x6\n",
    "    - Salida = 10x10x16\n",
    "    - Capa 2: Capa convolutional con salida = 10x10x16\n",
    "    - Output = (Input-filter+1)/strides => 10 = 14-5+1/1\n",
    "    - Aplicar una función de activación RELU a la salida\n",
    "    - Submuestreo (pooling) con Entrada = 10x10x16 Salida = 5x5x16\n",
    "\n",
    "- Paso 3: \"Aplanar\" la red (convertir a una dimensión)\n",
    "\n",
    "    - Entrada = 5x5x16 y Salida = 400\n",
    "\n",
    "- Paso 4: Capa plenamenente conectada\n",
    "\n",
    "    - Capa 3: Capa plenamente conectada con Entrada = 400 y Salida = 120\n",
    "    - Aplicar una función de activación RELU a la salida\n",
    "\n",
    "- Paso 5: Otra capa plenamente conectada\n",
    "\n",
    "    - Capa 4: Capa plenamente conectada con Entrada = 120 y Salida = 84\n",
    "    - Aplicar una función de activación RELU a la salida\n",
    "\n",
    "- Paso 6: Otra capa plenamente conectada\n",
    "\n",
    "    - Capa 5: Capa plenamente conectada con Entrada = 84 y Salida = 43"
   ]
  },
  {
   "cell_type": "markdown",
   "metadata": {},
   "source": [
    "# Importar librerías para construir el modelo"
   ]
  },
  {
   "cell_type": "code",
   "execution_count": 17,
   "metadata": {},
   "outputs": [],
   "source": [
    "from keras.models import Sequential, load_model\n",
    "from keras.layers import Conv2D, Dense, Flatten, Rescaling, AveragePooling2D, Dropout\n"
   ]
  },
  {
   "cell_type": "code",
   "execution_count": 19,
   "metadata": {},
   "outputs": [],
   "source": [
    "# Crear el modelo\n",
    "model = Sequential()\n",
    "#Conv2D\n",
    "model.add(Conv2D(6, kernel_size=(5, 5), strides=(1,1), activation='relu', input_shape=(32,32,1)))\n",
    "model.add(AveragePooling2D())\n",
    "#Segunda capa\n",
    "model.add(Conv2D(16, kernel_size=(5, 5), strides=(1,1), activation='relu'))\n",
    "model.add(AveragePooling2D())\n",
    "#Flatten\n",
    "model.add(Flatten())\n",
    "#Fully connected 1\n",
    "model.add(Dense(units=120, activation='relu'))\n",
    "#Fully connected 2\n",
    "model.add(Dense(units=84, activation='relu'))\n",
    "#Fully connected 3\n",
    "model.add(Dense(units=43, activation='softmax'))\n"
   ]
  },
  {
   "cell_type": "code",
   "execution_count": 20,
   "metadata": {},
   "outputs": [
    {
     "name": "stdout",
     "output_type": "stream",
     "text": [
      "Model: \"sequential_1\"\n",
      "_________________________________________________________________\n",
      " Layer (type)                Output Shape              Param #   \n",
      "=================================================================\n",
      " conv2d (Conv2D)             (None, 28, 28, 6)         156       \n",
      "                                                                 \n",
      " average_pooling2d (AverageP  (None, 14, 14, 6)        0         \n",
      " ooling2D)                                                       \n",
      "                                                                 \n",
      " conv2d_1 (Conv2D)           (None, 10, 10, 16)        2416      \n",
      "                                                                 \n",
      " average_pooling2d_1 (Averag  (None, 5, 5, 16)         0         \n",
      " ePooling2D)                                                     \n",
      "                                                                 \n",
      " flatten (Flatten)           (None, 400)               0         \n",
      "                                                                 \n",
      " dense (Dense)               (None, 120)               48120     \n",
      "                                                                 \n",
      " dense_1 (Dense)             (None, 84)                10164     \n",
      "                                                                 \n",
      " dense_2 (Dense)             (None, 43)                3655      \n",
      "                                                                 \n",
      "=================================================================\n",
      "Total params: 64,511\n",
      "Trainable params: 64,511\n",
      "Non-trainable params: 0\n",
      "_________________________________________________________________\n"
     ]
    }
   ],
   "source": [
    "model.summary()"
   ]
  },
  {
   "cell_type": "code",
   "execution_count": 21,
   "metadata": {},
   "outputs": [],
   "source": [
    "# Compile the model \n",
    "model.compile(loss='sparse_categorical_crossentropy', optimizer='adam', metrics=['accuracy'])"
   ]
  },
  {
   "cell_type": "code",
   "execution_count": 22,
   "metadata": {},
   "outputs": [
    {
     "name": "stdout",
     "output_type": "stream",
     "text": [
      "Epoch 1/20\n",
      "1088/1088 [==============================] - 33s 29ms/step - loss: 1.2253 - accuracy: 0.7397 - val_loss: 0.5897 - val_accuracy: 0.8653\n",
      "Epoch 2/20\n",
      "1088/1088 [==============================] - 22s 20ms/step - loss: 0.2489 - accuracy: 0.9364 - val_loss: 0.5328 - val_accuracy: 0.8796\n",
      "Epoch 3/20\n",
      "1088/1088 [==============================] - 19s 18ms/step - loss: 0.1474 - accuracy: 0.9629 - val_loss: 0.3765 - val_accuracy: 0.9163\n",
      "Epoch 4/20\n",
      "1088/1088 [==============================] - 18s 16ms/step - loss: 0.1105 - accuracy: 0.9695 - val_loss: 0.5864 - val_accuracy: 0.8973\n",
      "Epoch 5/20\n",
      "1088/1088 [==============================] - 19s 17ms/step - loss: 0.0875 - accuracy: 0.9763 - val_loss: 0.4448 - val_accuracy: 0.9204\n",
      "Epoch 6/20\n",
      "1088/1088 [==============================] - 17s 16ms/step - loss: 0.0779 - accuracy: 0.9794 - val_loss: 0.4845 - val_accuracy: 0.9145\n",
      "Epoch 7/20\n",
      "1088/1088 [==============================] - 17s 16ms/step - loss: 0.0660 - accuracy: 0.9827 - val_loss: 0.6462 - val_accuracy: 0.9070\n",
      "Epoch 8/20\n",
      "1088/1088 [==============================] - 17s 15ms/step - loss: 0.0612 - accuracy: 0.9836 - val_loss: 0.5848 - val_accuracy: 0.9179\n",
      "Epoch 9/20\n",
      "1088/1088 [==============================] - 19s 17ms/step - loss: 0.0622 - accuracy: 0.9832 - val_loss: 0.4890 - val_accuracy: 0.9143\n",
      "Epoch 10/20\n",
      "1088/1088 [==============================] - 17s 16ms/step - loss: 0.0637 - accuracy: 0.9844 - val_loss: 0.5814 - val_accuracy: 0.8871\n",
      "Epoch 11/20\n",
      "1088/1088 [==============================] - 18s 16ms/step - loss: 0.0414 - accuracy: 0.9891 - val_loss: 0.6008 - val_accuracy: 0.9204\n",
      "Epoch 12/20\n",
      "1088/1088 [==============================] - 17s 16ms/step - loss: 0.0440 - accuracy: 0.9885 - val_loss: 0.6092 - val_accuracy: 0.9181\n",
      "Epoch 13/20\n",
      "1088/1088 [==============================] - 17s 16ms/step - loss: 0.0492 - accuracy: 0.9876 - val_loss: 0.5893 - val_accuracy: 0.9295\n",
      "Epoch 14/20\n",
      "1088/1088 [==============================] - 19s 18ms/step - loss: 0.0462 - accuracy: 0.9894 - val_loss: 0.8323 - val_accuracy: 0.9054\n",
      "Epoch 15/20\n",
      "1088/1088 [==============================] - 18s 17ms/step - loss: 0.0409 - accuracy: 0.9898 - val_loss: 0.6140 - val_accuracy: 0.9254\n",
      "Epoch 16/20\n",
      "1088/1088 [==============================] - 18s 16ms/step - loss: 0.0368 - accuracy: 0.9912 - val_loss: 0.4887 - val_accuracy: 0.9272\n",
      "Epoch 17/20\n",
      "1088/1088 [==============================] - 19s 17ms/step - loss: 0.0475 - accuracy: 0.9890 - val_loss: 0.8533 - val_accuracy: 0.9141\n",
      "Epoch 18/20\n",
      "1088/1088 [==============================] - 18s 16ms/step - loss: 0.0347 - accuracy: 0.9918 - val_loss: 0.6429 - val_accuracy: 0.9141\n",
      "Epoch 19/20\n",
      "1088/1088 [==============================] - 19s 18ms/step - loss: 0.0415 - accuracy: 0.9914 - val_loss: 0.7385 - val_accuracy: 0.9277\n",
      "Epoch 20/20\n",
      "1088/1088 [==============================] - 19s 17ms/step - loss: 0.0252 - accuracy: 0.9943 - val_loss: 1.0885 - val_accuracy: 0.9093\n"
     ]
    }
   ],
   "source": [
    "# Entrenar el modelo y guardar los datos en un hhistorial\n",
    "historial = model.fit(X_entreno_gris, y_entreno, epochs=20, validation_data=(X_valida_gris, y_valida))"
   ]
  },
  {
   "cell_type": "markdown",
   "metadata": {},
   "source": [
    "# EVALUACION DEL MODELO"
   ]
  },
  {
   "cell_type": "code",
   "execution_count": null,
   "metadata": {},
   "outputs": [],
   "source": [
    "# Evaluar el modelo e indicar la exactitud con los datos de prueba"
   ]
  },
  {
   "cell_type": "code",
   "execution_count": null,
   "metadata": {},
   "outputs": [],
   "source": [
    "historial.history.keys()"
   ]
  },
  {
   "cell_type": "code",
   "execution_count": null,
   "metadata": {},
   "outputs": [],
   "source": [
    "# Generar gráfica de Exactitud y de Entrenamiento y Validación\n"
   ]
  },
  {
   "cell_type": "code",
   "execution_count": null,
   "metadata": {},
   "outputs": [],
   "source": [
    "# Generar gráfica de Pérdida de Entrenamiento y Validación\n"
   ]
  },
  {
   "cell_type": "markdown",
   "metadata": {},
   "source": [
    "# Obtener las predicciones para los datos de prueba"
   ]
  },
  {
   "cell_type": "code",
   "execution_count": null,
   "metadata": {},
   "outputs": [],
   "source": [
    "#  A partir de la versión 2.6 de tensorflow, la siguiente instrucción\n",
    "#    puede dar el error:  ‘Sequential’ object has no attribute ‘predict_classes’\n",
    "#    por lo que se sustituye por la que le sigue\n",
    "#\n",
    "#clases_predichas = modelo_cnn.predict_classes(X_prueba_gris_norm)\n",
    "\n",
    "clases_predichas = np.argmax(modelo_cnn.predict(X_prueba_BN_norm),axis=1)\n",
    "\n",
    "# se obtienen los índices para poder graficar\n",
    "\n"
   ]
  },
  {
   "cell_type": "code",
   "execution_count": null,
   "metadata": {},
   "outputs": [],
   "source": [
    "# Generar un mapa de calor para la matriz de confusión\n",
    "\n"
   ]
  },
  {
   "cell_type": "code",
   "execution_count": null,
   "metadata": {
    "scrolled": true
   },
   "outputs": [],
   "source": [
    "# Generar un cuadro de 7 X 7 con los primeros 49 rótulos del conjunto de prueba y \n",
    "#   para cada uno colocar de título la etiqueta verdadera y el código predicho por el \n",
    "#   modelo\n",
    "\n"
   ]
  },
  {
   "cell_type": "code",
   "execution_count": null,
   "metadata": {},
   "outputs": [],
   "source": []
  },
  {
   "cell_type": "markdown",
   "metadata": {},
   "source": [
    "#  Ajustes del modelo\n",
    "\n",
    "Como se puede ver, hay muchos lugares donde se puede cambiar la configuración del modelo.  A continuación se sugieren varias posibilidades que deben probar e indicar si se mejora la exactitud del modelo:\n",
    "\n",
    "1. Incrementar el número de épocas para el entrenamiento a 500 ó 1,000\n",
    "2. En las capas de convolución cambiar el tamaño del kernel a 10 X 10\n",
    "3. Cambiar el método de submuestrear (pooling) a MaxPooling\n",
    "4. Cambiar el numero de la segunda capa plenamente conectada de 84 a 100 unidades\n",
    "5. Cambiar el número de la primera capa plenamente conectada de 120 a 300 unidades\n",
    "\n",
    "La idea es ir haciendo los cambios uno por uno y ver cómo va cambiando la exactitud del modelo"
   ]
  },
  {
   "cell_type": "code",
   "execution_count": null,
   "metadata": {},
   "outputs": [],
   "source": []
  }
 ],
 "metadata": {
  "kernelspec": {
   "display_name": "Python 3.8.0 64-bit",
   "language": "python",
   "name": "python3"
  },
  "language_info": {
   "codemirror_mode": {
    "name": "ipython",
    "version": 3
   },
   "file_extension": ".py",
   "mimetype": "text/x-python",
   "name": "python",
   "nbconvert_exporter": "python",
   "pygments_lexer": "ipython3",
   "version": "3.8.0"
  },
  "vscode": {
   "interpreter": {
    "hash": "c6a8c22c86cde34061ecc62b53fbd32a99d168300b89e9907f412dfe3f957042"
   }
  },
  "widgets": {
   "state": {},
   "version": "1.1.2"
  }
 },
 "nbformat": 4,
 "nbformat_minor": 4
}
